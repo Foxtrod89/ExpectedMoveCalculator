{
 "cells": [
  {
   "cell_type": "code",
   "execution_count": 1,
   "id": "1a26af34",
   "metadata": {},
   "outputs": [
    {
     "name": "stdout",
     "output_type": "stream",
     "text": [
      "Last close price: 37.11000061035156\n",
      "XLF IV: 20.3\n",
      "XLF expected move is +/- 1.8069669720274402\n",
      "High: 38.916967582379, Low: 35.30303363832412\n"
     ]
    }
   ],
   "source": [
    "!python3 expected_price.py -s XLF -d 21"
   ]
  },
  {
   "cell_type": "code",
   "execution_count": null,
   "id": "7b4de3ec",
   "metadata": {},
   "outputs": [],
   "source": []
  }
 ],
 "metadata": {
  "kernelspec": {
   "display_name": "Python 3 (ipykernel)",
   "language": "python",
   "name": "python3"
  },
  "language_info": {
   "codemirror_mode": {
    "name": "ipython",
    "version": 3
   },
   "file_extension": ".py",
   "mimetype": "text/x-python",
   "name": "python",
   "nbconvert_exporter": "python",
   "pygments_lexer": "ipython3",
   "version": "3.9.6"
  }
 },
 "nbformat": 4,
 "nbformat_minor": 5
}
